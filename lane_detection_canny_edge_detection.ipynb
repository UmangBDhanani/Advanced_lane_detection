{
 "cells": [
  {
   "cell_type": "code",
   "execution_count": 1,
   "id": "1680f3c6",
   "metadata": {},
   "outputs": [],
   "source": [
    "import cv2\n",
    "import numpy as np\n",
    "import matplotlib.pyplot as plt\n",
    "%matplotlib inline"
   ]
  },
  {
   "cell_type": "code",
   "execution_count": 2,
   "id": "de98c695",
   "metadata": {},
   "outputs": [],
   "source": [
    "video_file_path = './test1.mp4'"
   ]
  },
  {
   "cell_type": "code",
   "execution_count": 3,
   "id": "b499077e",
   "metadata": {},
   "outputs": [
    {
     "data": {
      "text/plain": [
       "13"
      ]
     },
     "execution_count": 3,
     "metadata": {},
     "output_type": "execute_result"
    }
   ],
   "source": [
    "capture = cv2.VideoCapture(video_file_path)\n",
    "ret, frame = capture.read()\n",
    "cv2.imshow('frame',frame)\n",
    "cv2.waitKey(0)\n"
   ]
  },
  {
   "cell_type": "code",
   "execution_count": 4,
   "id": "8353aecf",
   "metadata": {},
   "outputs": [],
   "source": [
    "# function takes in raw image from frame and returns canny edge image\n",
    "\n",
    "def canny_conversion(img):\n",
    "  gray_img = cv2.cvtColor(img, cv2.COLOR_BGR2GRAY) # converting to gray scale image for processing in opencv\n",
    "  kernel_size = 5\n",
    "  blurred_img = cv2.GaussianBlur(gray_img, (kernel_size,kernel_size), 0)  # blurring the image if the image is sharp\n",
    "  canny = cv2.Canny(blurred_img, 50, 150)     # applying canny algorithm for edge detection\n",
    "  return canny\n"
   ]
  },
  {
   "cell_type": "code",
   "execution_count": 5,
   "id": "5844d160",
   "metadata": {},
   "outputs": [],
   "source": [
    "# choosing the region of interest (triangular) where the lanes can be founded and ignoring other regions\n",
    "\n",
    "def region_of_interest(image):\n",
    "  height, width = image.shape\n",
    "  mask = np.zeros_like(image)    # creating the mask of sam esize as image\n",
    "  interested_region_triangle = np.array([[(200, height), (800, 350), (1200, height)]], np.int32)    # slicing the traingle for lanes ocurence for given input image\n",
    "  cv2.fillPoly(mask, interested_region_triangle, 255)      # filling sliced triangle with white pixels and masking input image to filter out other image parts but the triangle\n",
    "  masked_image = cv2.bitwise_and(image, mask)     # filtering the input image with the mask\n",
    "  return masked_image"
   ]
  },
  {
   "cell_type": "code",
   "execution_count": 6,
   "id": "7c337301",
   "metadata": {},
   "outputs": [],
   "source": [
    "# detecting the lines through hough transform for a given image and returns potential lines for the lanes\n",
    "\n",
    "def hough_transform(image):\n",
    "  hough_lines = cv2.HoughLinesP(image, 2, np.pi/180, 100, np.array([]), minLineLength = 40, maxLineGap = 50)\n",
    "  return hough_lines"
   ]
  },
  {
   "cell_type": "code",
   "execution_count": 7,
   "id": "33014e77",
   "metadata": {},
   "outputs": [],
   "source": [
    "# function that returns image with lines detection \n",
    "\n",
    "def display_lines(image, lines):\n",
    "  line_image = np.zeros_like(image)\n",
    "  if lines is not None:\n",
    "    for line in lines:\n",
    "      x1, y1, x2, y2 = line.reshape(4)\n",
    "      cv2.line(line_image, (x1,y1),(x2,y2),(0,0,255), 7)\n",
    "  return line_image    \n"
   ]
  },
  {
   "cell_type": "code",
   "execution_count": 8,
   "id": "3100b085",
   "metadata": {},
   "outputs": [],
   "source": [
    "def make_coordinates(image, line_parameters):\n",
    "  slope, intercept = line_parameters\n",
    "  y1 = image.shape[0]\n",
    "  y2 = int(y1 * 3/5)\n",
    "  x1 = int((y1 - intercept) / slope)\n",
    "  x2 = int((y2-intercept) / slope)\n",
    "  \n",
    "  return np.array([x1, y1, x2, y2])\n"
   ]
  },
  {
   "cell_type": "code",
   "execution_count": 9,
   "id": "ec7c195e",
   "metadata": {},
   "outputs": [],
   "source": [
    "# finding the average of lines detected by hough transforms and outputs the single line. \n",
    "\n",
    "def avg_slope_intercept(image, lines):\n",
    "  left_vals = []\n",
    "  right_vals = []\n",
    "  for line in lines:\n",
    "    for x1,y1, x2, y2 in line:\n",
    "      parameters = np.polyfit((x1,x2), (y1,y2), 1)      # fit the 1st degree polynomial and output the parameters for given coordinates\n",
    "      slope = parameters[0]\n",
    "      intercept = parameters[1]\n",
    "      if slope > 0:\n",
    "        right_vals.append((slope, intercept))\n",
    "      else:\n",
    "        left_vals.append((slope, intercept))\n",
    "  \n",
    "  left_line_avg = np.average(left_vals, axis = 0)\n",
    "  right_line_avg = np.average(right_vals, axis = 0) \n",
    "  #print(left_line_avg,  'left')\n",
    "  #print(right_line_avg , 'right')\n",
    "  left_line = make_coordinates(image, left_line_avg)\n",
    "  right_line = make_coordinates(image, right_line_avg)    \n",
    "\n",
    "  return np.array([left_line, right_line])           \n"
   ]
  },
  {
   "cell_type": "code",
   "execution_count": null,
   "id": "ed9fdd04",
   "metadata": {},
   "outputs": [],
   "source": [
    "cap = cv2.VideoCapture('test1.mp4')\n",
    "while(cap.isOpened()):\n",
    "  _, frame = cap.read()\n",
    "  output = canny_conversion(frame)\n",
    "  masked_output = region_of_interest(output)\n",
    "  hough_lines = hough_transform(masked_output)\n",
    "  averaged_lines = avg_slope_intercept(frame, hough_lines)\n",
    "  line_image = display_lines(frame, averaged_lines)\n",
    "  final_image = cv2.addWeighted(frame,0.8, line_image, 1, 1)\n",
    "  cv2.imshow('video_output',final_image)\n",
    "  if cv2.waitKey(1) == ord('q'):\n",
    "    break\n",
    "cap.release()\n",
    "cv2.destroyAllWindows()"
   ]
  },
  {
   "cell_type": "code",
   "execution_count": null,
   "id": "f2430d9a",
   "metadata": {},
   "outputs": [],
   "source": []
  }
 ],
 "metadata": {
  "kernelspec": {
   "display_name": "TF2GPU",
   "language": "python",
   "name": "tf2gpu"
  },
  "language_info": {
   "codemirror_mode": {
    "name": "ipython",
    "version": 3
   },
   "file_extension": ".py",
   "mimetype": "text/x-python",
   "name": "python",
   "nbconvert_exporter": "python",
   "pygments_lexer": "ipython3",
   "version": "3.9.11"
  }
 },
 "nbformat": 4,
 "nbformat_minor": 5
}
